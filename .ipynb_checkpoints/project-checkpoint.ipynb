{
 "cells": [
  {
   "cell_type": "code",
   "execution_count": 149,
   "metadata": {},
   "outputs": [],
   "source": [
    "import pandas as pd\n",
    "import gzip\n",
    "import datetime\n",
    "import requests\n",
    "import csv\n",
    "from pandas.io.json import json_normalize"
   ]
  },
  {
   "cell_type": "code",
   "execution_count": 150,
   "metadata": {},
   "outputs": [],
   "source": [
    "def parse(path):\n",
    "  g = gzip.open(path, 'rb')\n",
    "  for l in g:\n",
    "    yield eval(l)\n",
    "\n",
    "def getDF(path):\n",
    "  i = 0\n",
    "  df = {}\n",
    "  for d in parse(path):\n",
    "    df[i] = d\n",
    "    i += 1\n",
    "  return pd.DataFrame.from_dict(df, orient='index')"
   ]
  },
  {
   "cell_type": "code",
   "execution_count": 136,
   "metadata": {},
   "outputs": [],
   "source": [
    "automotive = getDF('category_data/reviews_Automotive_5.json.gz')\n",
    "baby = getDF('category_data/reviews_Baby_5.json.gz')\n",
    "beauty = getDF('category_data/reviews_Beauty_5.json.gz')\n",
    "grocery = getDF('category_data/reviews_Grocery_and_Gourmet_Food_5.json.gz')\n",
    "musical = getDF('category_data/reviews_Musical_Instruments_5.json.gz')\n",
    "office = getDF('category_data/reviews_Office_Products_5.json.gz')\n",
    "patio = getDF('category_data/reviews_Patio_Lawn_and_Garden_5.json.gz')\n",
    "pet = getDF('category_data/reviews_Pet_Supplies_5.json.gz')\n",
    "\n",
    "df = pd.concat([automotive, baby, beauty, grocery, musical, office, patio, pet])\n",
    "df[\"reviewTime\"] = pd.to_datetime(df[\"reviewTime\"])\n",
    "\n",
    "mask = (df[\"reviewTime\"] >= '2010-01-01') & (df[\"reviewTime\"] <= '2014-07-31')\n",
    "df = df.loc[mask]"
   ]
  },
  {
   "cell_type": "code",
   "execution_count": 171,
   "metadata": {},
   "outputs": [],
   "source": [
    "def readabilityMetrics(text):\n",
    "    response = requests.post(\"https://ipeirotis-readability-metrics.p.rapidapi.com/getReadabilityMetrics\",\n",
    "      headers={\n",
    "        \"X-RapidAPI-Host\": \"ipeirotis-readability-metrics.p.rapidapi.com\",\n",
    "        \"X-RapidAPI-Key\": \"818e0f0b58mshe4a4d5842f257bep1cc5a6jsne73e02710bab\",\n",
    "        \"Content-Type\": \"application/x-www-form-urlencoded\"\n",
    "      },\n",
    "      params={\n",
    "        \"text\":text                        \n",
    "      }\n",
    "    )\n",
    "    rowEntry = response.json()\n",
    "    rowEntry[\"TEXT\"] = text\n",
    "    return json_normalize(rowEntry)\n",
    "\n",
    "def numberOfSpellingErrors(text):\n",
    "    response = requests.get(\"https://montanaflynn-spellcheck.p.rapidapi.com/check/\",\n",
    "      headers={\n",
    "            \"X-RapidAPI-Host\": \"montanaflynn-spellcheck.p.rapidapi.com\",\n",
    "            \"X-RapidAPI-Key\": \"818e0f0b58mshe4a4d5842f257bep1cc5a6jsne73e02710bab\"\n",
    "      },\n",
    "      params={\n",
    "        \"text\":text                        \n",
    "      }\n",
    "    )\n",
    "    return len(response.json()['corrections'])\n"
   ]
  },
  {
   "cell_type": "code",
   "execution_count": 177,
   "metadata": {},
   "outputs": [
    {
     "name": "stdout",
     "output_type": "stream",
     "text": [
      "Can't comment much on these since they have not yet been used (I will come back and update my review is I find any issues after first use) ... but they are built solid, nice tough big hard clamps and love having a long cable so I never have to move cars around or anything if needed. I bought these to have in my new truck since you always need cables ... but another reason is for when I tow my travel trailer and we run the batteries with no shore power they may die after a couple days ... if you are in need a quick small recharge they are the perfect length to pop my hood, run the cables to the back of the truck and hook up to the batteries that are on the tongue of my travel trailer ... running the truck for 30-45 minutes with this nice large gauge wire connected from my battery tot he trailer battery will give me a bit of a charge if ever in a pinch and I have no shore power, solar, or generator to recharge.Bought the bucket boss 06009 jumper cable bag and it fit this 25 footer Perfectly!!!It has no use and is a waste of money right now ... but will EASILY pay for itself the first time you need it ... always be prepared! :)\n",
      "     ARI  CHARACTERS  COLEMAN_LIAU  COMPLEXWORDS  FLESCH_KINCAID  \\\n",
      "0  0.852        21.0         2.938           0.0            0.52   \n",
      "\n",
      "   FLESCH_READING  GUNNING_FOG  SENTENCES   SMOG  SMOG_INDEX  SYLLABLES  \\\n",
      "0          100.24          2.0        1.0  3.129         3.0        6.0   \n",
      "\n",
      "                        TEXT  WORDS  \n",
      "0  The cat jumped and landed    5.0  \n"
     ]
    }
   ],
   "source": [
    "testReviewText = df['reviewText'].iloc[2]\n",
    "# print(testReviewText)\n",
    "\n",
    "# print(readabilityMetrics(\"The cat jumped and landed\"))\n",
    "# print(numberOfSpellingErrors(\"I like to singg and dancce\"))\n",
    "# readabilityMetrics(testReviewText)\n",
    "# numberOfSpellingErrors(testReviewText)"
   ]
  },
  {
   "cell_type": "code",
   "execution_count": null,
   "metadata": {},
   "outputs": [],
   "source": []
  }
 ],
 "metadata": {
  "kernelspec": {
   "display_name": "Python 3",
   "language": "python",
   "name": "python3"
  },
  "language_info": {
   "codemirror_mode": {
    "name": "ipython",
    "version": 3
   },
   "file_extension": ".py",
   "mimetype": "text/x-python",
   "name": "python",
   "nbconvert_exporter": "python",
   "pygments_lexer": "ipython3",
   "version": "3.7.1"
  }
 },
 "nbformat": 4,
 "nbformat_minor": 2
}
